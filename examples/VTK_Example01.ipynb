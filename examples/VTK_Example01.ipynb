{
 "cells": [
  {
   "cell_type": "code",
   "execution_count": 1,
   "outputs": [],
   "source": [
    "# Comments\n",
    "\n",
    "# [cell]\n",
    "\n",
    "# imports\n",
    "\n",
    "from __future__ import absolute_import, division, print_function\n",
    "\n",
    "import ipywidgets\n",
    "\n",
    "from jupyter_rs_vtk import vtk_viewer\n",
    "\n",
    "# [cell]\n",
    "\n",
    "# vars\n",
    "\n",
    "# radia viewer\n",
    "vtkv = vtk_viewer.Viewer()\n",
    "vtkv.test()\n",
    "vtkv.display()\n"
   ],
   "metadata": {
    "collapsed": false,
    "pycharm": {
     "name": "#%%\n",
     "is_executing": false
    }
   }
  }
 ],
 "metadata": {
  "kernelspec": {
   "name": "python3",
   "language": "python",
   "display_name": "Python 3"
  },
  "language_info": {
   "codemirror_mode": {
    "name": "ipython",
    "version": 2
   },
   "file_extension": ".py",
   "mimetype": "text/x-python",
   "name": "python",
   "nbconvert_exporter": "python",
   "pygments_lexer": "ipython2",
   "version": "2.7.16"
  }
 },
 "nbformat": 4,
 "nbformat_minor": 2
}